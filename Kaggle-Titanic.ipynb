{
 "cells": [
  {
   "cell_type": "code",
   "execution_count": 1,
   "metadata": {
    "collapsed": false
   },
   "outputs": [],
   "source": [
    "#Obtain the CSV Document and read it into RAM using a pandas Dataframe, observe the structure and columns\n",
    "\n",
    "import pandas as pd\n",
    "\n",
    "titanic = pd.read_csv('titanic_train.csv')\n",
    "# titanic['Embarked'].head(100)\n",
    "# titanic.describe()"
   ]
  },
  {
   "cell_type": "code",
   "execution_count": 2,
   "metadata": {
    "collapsed": true
   },
   "outputs": [],
   "source": [
    "#fill mising ages with the median age (a fair estimate) \n",
    "\n",
    "titanic['Age'] = titanic['Age'].fillna(titanic['Age'].median())"
   ]
  },
  {
   "cell_type": "code",
   "execution_count": 3,
   "metadata": {
    "collapsed": false
   },
   "outputs": [],
   "source": [
    "#convert and reinsert sex column as interger values (could've done this automatically with LabelEncode fnc or a dictionary)\n",
    "\n",
    "titanic.loc[titanic[\"Sex\"] == \"male\", \"Sex\"] = 0\n",
    "titanic.loc[titanic['Sex'] == 'female', 'Sex'] = 1\n",
    "# titanic[\"Sex\"]"
   ]
  },
  {
   "cell_type": "code",
   "execution_count": 4,
   "metadata": {
    "collapsed": false
   },
   "outputs": [],
   "source": [
    "#converting embarked and filling missing blanks by explicit method\n",
    "titanic[\"Embarked\"] = titanic[\"Embarked\"].fillna(\"S\")\n",
    "\n",
    "titanic.loc[titanic['Embarked'] == 'S', 'Embarked'] = 0\n",
    "titanic.loc[titanic['Embarked']== 'C', 'Embarked'] = 1\n",
    "titanic.loc[titanic['Embarked'] == 'Q', 'Embarked'] = 2\n"
   ]
  },
  {
   "cell_type": "code",
   "execution_count": 5,
   "metadata": {
    "collapsed": false
   },
   "outputs": [],
   "source": [
    "# Import the linear regression class\n",
    "from sklearn.linear_model import LinearRegression\n",
    "# Sklearn also has a helper that makes it easy to do cross validation\n",
    "from sklearn.cross_validation import KFold\n",
    "\n",
    "# The columns we'll use to predict the target\n",
    "predictors = [\"Pclass\", \"Sex\", \"Age\", \"SibSp\", \"Parch\", \"Fare\", \"Embarked\"]\n",
    "\n",
    "# Initialize our algorithm class\n",
    "alg = LinearRegression()\n",
    "# Generate cross validation folds for the titanic dataset.  It return the row indices corresponding to train and test.\n",
    "# We set random_state to ensure we get the same splits every time we run this.\n",
    "kf = KFold(titanic.shape[0], n_folds=3, random_state=1)\n",
    "\n",
    "predictions = []\n",
    "for train, test in kf:\n",
    "    # The predictors we're using the train the algorithm.  Note how we only take the rows in the train folds.\n",
    "    train_predictors = (titanic[predictors].iloc[train,:])\n",
    "    # The target we're using to train the algorithm.\n",
    "    train_target = titanic[\"Survived\"].iloc[train]\n",
    "    # Training the algorithm using the predictors and target.\n",
    "    alg.fit(train_predictors, train_target)\n",
    "    # We can now make predictions on the test fold\n",
    "    test_predictions = alg.predict(titanic[predictors].iloc[test,:])\n",
    "    predictions.append(test_predictions)\n"
   ]
  },
  {
   "cell_type": "code",
   "execution_count": 6,
   "metadata": {
    "collapsed": false
   },
   "outputs": [
    {
     "data": {
      "text/plain": [
       "0.7833894500561167"
      ]
     },
     "execution_count": 6,
     "metadata": {},
     "output_type": "execute_result"
    }
   ],
   "source": [
    "import numpy as np\n",
    "\n",
    "# The predictions are in three separate numpy arrays.  Concatenate them into one.  \n",
    "# We concatenate them on axis 0, as they only have one axis.\n",
    "predictions = np.concatenate(predictions, axis=0)\n",
    "\n",
    "# Map predictions to outcomes (only possible outcomes are 1 and 0)\n",
    "predictions[predictions > .5] = 1\n",
    "predictions[predictions <=.5] = 0\n",
    "\n",
    "bool_array = predictions == titanic['Survived']\n",
    "prediction_accuracy = titanic['Survived'][bool_array]\n",
    "accuracy = len(prediction_accuracy)/len(titanic['Survived'])\n",
    "accuracy"
   ]
  },
  {
   "cell_type": "code",
   "execution_count": 7,
   "metadata": {
    "collapsed": false
   },
   "outputs": [
    {
     "name": "stdout",
     "output_type": "stream",
     "text": [
      "0.787878787879\n"
     ]
    }
   ],
   "source": [
    "#cross validation\n",
    "from sklearn import cross_validation\n",
    "from sklearn.linear_model import LogisticRegression\n",
    "\n",
    "# Initialize our algorithm\n",
    "alg = LogisticRegression(random_state=1)\n",
    "# Compute the accuracy score for all the cross validation folds.  (much simpler than what we did before!)\n",
    "scores = cross_validation.cross_val_score(alg, titanic[predictors], titanic[\"Survived\"], cv=3)\n",
    "# Take the mean of the scores (because we have one for each fold)\n",
    "print(scores.mean())"
   ]
  },
  {
   "cell_type": "code",
   "execution_count": 8,
   "metadata": {
    "collapsed": true
   },
   "outputs": [],
   "source": [
    "titanic_test = pd.read_csv('titanic_test.csv')\n",
    "titanic_test['Age'] = titanic_test['Age'].fillna(titanic['Age'].median())\n",
    "\n",
    "titanic_test[\"Embarked\"] = titanic_test[\"Embarked\"].fillna(\"S\")\n",
    "titanic_test.loc[titanic_test['Embarked'] == 'S', 'Embarked'] = 0\n",
    "titanic_test.loc[titanic_test['Embarked'] == 'C', 'Embarked'] = 1\n",
    "titanic_test.loc[titanic_test['Embarked'] == 'Q', 'Embarked'] = 2\n",
    "\n",
    "#fill fares with the median fairs\n",
    "\n",
    "titanic_test['Fare'] = titanic_test['Fare'].fillna(titanic_test['Fare'].median())\n",
    "\n",
    "#and convert sexes\n",
    "titanic_test.loc[titanic_test[\"Sex\"] == \"male\", \"Sex\"] = 0 \n",
    "titanic_test.loc[titanic_test[\"Sex\"] == \"female\", \"Sex\"] = 1"
   ]
  },
  {
   "cell_type": "code",
   "execution_count": 9,
   "metadata": {
    "collapsed": false
   },
   "outputs": [],
   "source": [
    "# Initialize the algorithm class\n",
    "alg = LogisticRegression(random_state=1)\n",
    "\n",
    "# Train the algorithm using all the training data\n",
    "alg.fit(titanic[predictors], titanic[\"Survived\"])\n",
    "\n",
    "# Make predictions using the test set.\n",
    "predictions = alg.predict(titanic_test[predictors])\n",
    "\n",
    "# Create a new dataframe with only the columns Kaggle wants from the dataset.\n",
    "submission = pd.DataFrame({\n",
    "        \"PassengerId\": titanic_test[\"PassengerId\"],\n",
    "        \"Survived\": predictions\n",
    "    })"
   ]
  },
  {
   "cell_type": "code",
   "execution_count": 10,
   "metadata": {
    "collapsed": true
   },
   "outputs": [],
   "source": [
    "submission.to_csv(\"kaggle.csv\", index=False)"
   ]
  },
  {
   "cell_type": "code",
   "execution_count": 11,
   "metadata": {
    "collapsed": false
   },
   "outputs": [
    {
     "name": "stdout",
     "output_type": "stream",
     "text": [
      "0.801346801347\n"
     ]
    }
   ],
   "source": [
    "#super kaggle using cross validation\n",
    "\n",
    "from sklearn import cross_validation\n",
    "from sklearn.ensemble import RandomForestClassifier\n",
    "\n",
    "predictors = [\"Pclass\", \"Sex\", \"Age\", \"SibSp\", \"Parch\", \"Fare\", \"Embarked\"]\n",
    "\n",
    "# Initialize our algorithm with the default paramters\n",
    "# n_estimators is the number of trees we want to make\n",
    "# min_samples_split is the minimum number of rows we need to make a split\n",
    "# min_samples_leaf is the minimum number of samples we can have at the place where a tree branch ends (the bottom points of the tree)\n",
    "alg = RandomForestClassifier(random_state=1, n_estimators=10, min_samples_split=2, min_samples_leaf=1)\n",
    "\n",
    "#cross validation\n",
    "from sklearn import cross_validation\n",
    "from sklearn.linear_model import LogisticRegression\n",
    "\n",
    "# Initialize our algorithm\n",
    "# Compute the accuracy score for all the cross validation folds.  (much simpler than what we did before!)\n",
    "scores = cross_validation.cross_val_score(alg, titanic[predictors], titanic[\"Survived\"], cv=3)\n",
    "# Take the mean of the scores (because we have one for each fold)\n",
    "print(scores.mean())"
   ]
  },
  {
   "cell_type": "code",
   "execution_count": 12,
   "metadata": {
    "collapsed": false
   },
   "outputs": [
    {
     "name": "stdout",
     "output_type": "stream",
     "text": [
      "0.820426487093\n"
     ]
    }
   ],
   "source": [
    "alg = RandomForestClassifier(random_state=1, n_estimators=150, min_samples_split=4, min_samples_leaf=2)\n",
    "# Initialize our algorithm\n",
    "# Compute the accuracy score for all the cross validation folds.  (much simpler than what we did before!)\n",
    "scores = cross_validation.cross_val_score(alg, titanic[predictors], titanic[\"Survived\"], cv=3)\n",
    "# Take the mean of the scores (because we have one for each fold)\n",
    "print(scores.mean())"
   ]
  },
  {
   "cell_type": "code",
   "execution_count": 13,
   "metadata": {
    "collapsed": false
   },
   "outputs": [
    {
     "data": {
      "text/plain": [
       "0.8327721661054994"
      ]
     },
     "execution_count": 13,
     "metadata": {},
     "output_type": "execute_result"
    }
   ],
   "source": [
    "kf = KFold(titanic.shape[0], n_folds=5, random_state=1)\n",
    "\n",
    "predictions = []\n",
    "\n",
    "for train, test in kf:\n",
    "    # The predictors we're using the train the algorithm.  Note how we only take the rows in the train folds.\n",
    "    train_predictors = (titanic[predictors].iloc[train,:])\n",
    "    # The target we're using to train the algorithm.\n",
    "    train_target = titanic[\"Survived\"].iloc[train]\n",
    "    # Training the algorithm using the predictors and target.\n",
    "    alg.fit(train_predictors, train_target)\n",
    "    # We can now make predictions on the test fold\n",
    "    test_predictions = alg.predict(titanic[predictors].iloc[test,:])\n",
    "    predictions.append(test_predictions)\n",
    "# The predictions are in three separate numpy arrays.  Concatenate them into one.  \n",
    "# We concatenate them on axis 0, as they only have one axis.\n",
    "predictions = np.concatenate(predictions, axis=0)\n",
    "\n",
    "# Map predictions to outcomes (only possible outcomes are 1 and 0)\n",
    "predictions[predictions > .5] = 1\n",
    "predictions[predictions <=.5] = 0\n",
    "\n",
    "bool_array = predictions == titanic['Survived']\n",
    "prediction_accuracy = titanic['Survived'][bool_array]\n",
    "accuracy = len(prediction_accuracy)/len(titanic['Survived'])\n",
    "accuracy"
   ]
  },
  {
   "cell_type": "code",
   "execution_count": 14,
   "metadata": {
    "collapsed": false
   },
   "outputs": [],
   "source": [
    "# Generating a familysize column\n",
    "titanic[\"FamilySize\"] = titanic[\"SibSp\"] + titanic[\"Parch\"]\n",
    "\n",
    "# The .apply method generates a new series\n",
    "titanic[\"NameLength\"] = titanic[\"Name\"].apply(lambda x: len(x))"
   ]
  },
  {
   "cell_type": "code",
   "execution_count": 15,
   "metadata": {
    "collapsed": false
   },
   "outputs": [
    {
     "name": "stdout",
     "output_type": "stream",
     "text": [
      "Mr          517\n",
      "Miss        182\n",
      "Mrs         125\n",
      "Master       40\n",
      "Dr            7\n",
      "Rev           6\n",
      "Col           2\n",
      "Mlle          2\n",
      "Major         2\n",
      "Mme           1\n",
      "Capt          1\n",
      "Sir           1\n",
      "Ms            1\n",
      "Countess      1\n",
      "Jonkheer      1\n",
      "Don           1\n",
      "Lady          1\n",
      "Name: Name, dtype: int64\n",
      "1     517\n",
      "2     183\n",
      "3     125\n",
      "4      40\n",
      "5       7\n",
      "6       6\n",
      "7       5\n",
      "10      3\n",
      "8       3\n",
      "9       2\n",
      "Name: Name, dtype: int64\n"
     ]
    }
   ],
   "source": [
    "import re\n",
    "\n",
    "# A function to get the title from a name.\n",
    "def get_title(name):\n",
    "    # Use a regular expression to search for a title.  Titles always consist of capital and lowercase letters, and end with a period.\n",
    "    title_search = re.search(' ([A-Za-z]+)\\.', name)\n",
    "    # If the title exists, extract and return it.\n",
    "    if title_search:\n",
    "        return title_search.group(1)\n",
    "    return \"\"\n",
    "\n",
    "# Get all the titles and print how often each one occurs.\n",
    "titles = titanic[\"Name\"].apply(get_title)\n",
    "print(pd.value_counts(titles))\n",
    "\n",
    "# Map each title to an integer.  Some titles are very rare, and are compressed into the same codes as other titles.\n",
    "title_mapping = {\"Mr\": 1, \"Miss\": 2, \"Mrs\": 3, \"Master\": 4, \"Dr\": 5, \"Rev\": 6, \"Major\": 7, \"Col\": 7, \"Mlle\": 8, \"Mme\": 8, \"Don\": 9, \"Lady\": 10, \"Countess\": 10, \"Jonkheer\": 10, \"Sir\": 9, \"Capt\": 7, \"Ms\": 2}\n",
    "for k,v in title_mapping.items():\n",
    "    titles[titles == k] = v\n",
    "\n",
    "# Verify that we converted everything.\n",
    "print(pd.value_counts(titles))\n",
    "\n",
    "# Add in the title column.\n",
    "titanic[\"Title\"] = titles"
   ]
  },
  {
   "cell_type": "code",
   "execution_count": 16,
   "metadata": {
    "collapsed": false
   },
   "outputs": [
    {
     "name": "stdout",
     "output_type": "stream",
     "text": [
      "-1      800\n",
      " 14       8\n",
      " 149      7\n",
      " 63       6\n",
      " 50       6\n",
      " 59       6\n",
      " 17       5\n",
      " 384      4\n",
      " 27       4\n",
      " 25       4\n",
      " 162      4\n",
      " 8        4\n",
      " 84       4\n",
      " 340      4\n",
      " 43       3\n",
      " 269      3\n",
      " 58       3\n",
      " 633      2\n",
      " 167      2\n",
      " 280      2\n",
      " 510      2\n",
      " 90       2\n",
      " 83       1\n",
      " 625      1\n",
      " 376      1\n",
      " 449      1\n",
      " 498      1\n",
      " 588      1\n",
      "dtype: int64\n"
     ]
    }
   ],
   "source": [
    "\n",
    "import re\n",
    "\n",
    "# A function to get the title from a name.\n",
    "def get_title(name):\n",
    "    # Use a regular expression to search for a title.  Titles always consist of capital and lowercase letters, and end with a period.\n",
    "    title_search = re.search(' ([A-Za-z]+)\\.', name)\n",
    "    # If the title exists, extract and return it.\n",
    "    if title_search:\n",
    "        return title_search.group(1)\n",
    "    return \"\"\n",
    "\n",
    "# Get all the titles and print how often each one occurs.\n",
    "titles = titanic[\"Name\"].apply(get_title)\n",
    "#print(pd.value_counts(titles))\n",
    "\n",
    "# Map each title to an integer.  Some titles are very rare, and are compressed into the same codes as other titles.\n",
    "title_mapping = {\"Mr\": 1, \"Miss\": 2, \"Mrs\": 3, \"Master\": 4, \"Dr\": 5, \"Rev\": 6, \"Major\": 7, \"Col\": 7, \"Mlle\": 8, \"Mme\": 8, \"Don\": 9, \"Lady\": 10, \"Countess\": 10, \"Jonkheer\": 10, \"Sir\": 9, \"Capt\": 7, \"Ms\": 2}\n",
    "for k,v in title_mapping.items():\n",
    "    titles[titles == k] = v\n",
    "\n",
    "# Verify that we converted everything.\n",
    "#print(pd.value_counts(titles))\n",
    "\n",
    "# Add in the title column.\n",
    "titanic[\"Title\"] = titles\n",
    "\n",
    "import operator\n",
    "\n",
    "# A dictionary mapping family name to id\n",
    "family_id_mapping = {}\n",
    "\n",
    "# A function to get the id given a row\n",
    "def get_family_id(row):\n",
    "    # Find the last name by splitting on a comma\n",
    "    last_name = row[\"Name\"].split(\",\")[0]\n",
    "    # Create the family id\n",
    "    family_id = \"{0}{1}\".format(last_name, row[\"FamilySize\"])\n",
    "    # Look up the id in the mapping\n",
    "    if family_id not in family_id_mapping:\n",
    "        if len(family_id_mapping) == 0:\n",
    "            current_id = 1\n",
    "        else:\n",
    "            # Get the maximum id from the mapping and add one to it if we don't have an id\n",
    "            current_id = (max(family_id_mapping.items(), key=operator.itemgetter(1))[1] + 1)\n",
    "        family_id_mapping[family_id] = current_id\n",
    "    return family_id_mapping[family_id]\n",
    "\n",
    "# Get the family ids with the apply method\n",
    "family_ids = titanic.apply(get_family_id, axis=1)\n",
    "\n",
    "# There are a lot of family ids, so we'll compress all of the families under 3 members into one code.\n",
    "family_ids[titanic[\"FamilySize\"] < 3] = -1\n",
    "\n",
    "# Print the count of each unique id.\n",
    "print(pd.value_counts(family_ids))\n",
    "\n",
    "titanic[\"FamilyId\"] = family_ids\n",
    "\n",
    "\n",
    "\n"
   ]
  },
  {
   "cell_type": "code",
   "execution_count": 17,
   "metadata": {
    "collapsed": false
   },
   "outputs": [
    {
     "data": {
      "image/png": "[encoded data removed]",
      "text/plain": [
       "<matplotlib.figure.Figure at 0x27c7228128>"
      ]
     },
     "metadata": {},
     "output_type": "display_data"
    }
   ],
   "source": [
    "import numpy as np\n",
    "from sklearn.feature_selection import SelectKBest, f_classif\n",
    "import matplotlib.pyplot as plt\n",
    "%matplotlib inline\n",
    "\n",
    "predictors = [\"Pclass\", \"Sex\", \"Age\", \"SibSp\", \"Parch\", \"Fare\", \"Embarked\", \"FamilySize\", \"Title\", \"FamilyId\"]\n",
    "\n",
    "# Perform feature selection\n",
    "selector = SelectKBest(f_classif, k=5)\n",
    "selector.fit(titanic[predictors], titanic[\"Survived\"])\n",
    "\n",
    "# Get the raw p-values for each feature, and transform from p-values into scores\n",
    "scores = -np.log10(selector.pvalues_)\n",
    "\n",
    "# Plot the scores.  See how \"Pclass\", \"Sex\", \"Title\", and \"Fare\" are the best?\n",
    "plt.bar(range(len(predictors)), scores)\n",
    "plt.xticks(range(len(predictors)), predictors, rotation='vertical')\n",
    "plt.show()\n",
    "\n",
    "# Pick only the four best features.\n",
    "predictors = [\"Pclass\", \"Sex\", \"Fare\", \"Title\"]\n",
    "\n",
    "alg = RandomForestClassifier(random_state=1, n_estimators=150, min_samples_split=8, min_samples_leaf=4)"
   ]
  },
  {
   "cell_type": "code",
   "execution_count": 18,
   "metadata": {
    "collapsed": false
   },
   "outputs": [
    {
     "name": "stdout",
     "output_type": "stream",
     "text": [
      "0.811447811448\n"
     ]
    }
   ],
   "source": [
    "# Initialize our algorithm\n",
    "# Compute the accuracy score for all the cross validation folds.  (much simpler than what we did before!)\n",
    "scores = cross_validation.cross_val_score(alg, titanic[predictors], titanic[\"Survived\"], cv=3)\n",
    "# Take the mean of the scores (because we have one for each fold)\n",
    "print(scores.mean())"
   ]
  },
  {
   "cell_type": "code",
   "execution_count": 80,
   "metadata": {
    "collapsed": false
   },
   "outputs": [
    {
     "name": "stdout",
     "output_type": "stream",
     "text": [
      "0.819304152637\n"
     ]
    },
    {
     "name": "stderr",
     "output_type": "stream",
     "text": [
      "C:\\Users\\Andre\\Anaconda3\\lib\\site-packages\\ipykernel\\__main__.py:37: FutureWarning: in the future, boolean array-likes will be handled as a boolean array index\n"
     ]
    }
   ],
   "source": [
    "from sklearn.ensemble import GradientBoostingClassifier\n",
    "import numpy as np\n",
    "\n",
    "# The algorithms we want to ensemble.\n",
    "# We're using the more linear predictors for the logistic regression, and everything with the gradient boosting classifier.\n",
    "algorithms = [\n",
    "    [GradientBoostingClassifier(random_state=1, n_estimators=100, max_depth=4), [\"Pclass\", \"Sex\", \"Age\", \"Fare\", \"Embarked\", \"FamilySize\", \"Title\", \"FamilyId\"]],\n",
    "    [LogisticRegression(penalty = 'l1', C = 0.1, random_state=0), [\"Pclass\", \"Sex\", \"Fare\", \"FamilySize\", \"Title\", \"Age\", \"Embarked\"]]\n",
    "]\n",
    "\n",
    "# Initialize the cross validation folds\n",
    "kf = KFold(titanic.shape[0], n_folds=2, random_state=1)\n",
    "\n",
    "predictions = []\n",
    "for train, test in kf:\n",
    "    train_target = titanic[\"Survived\"].iloc[train]\n",
    "    full_test_predictions = []\n",
    "    # Make predictions for each algorithm on each fold\n",
    "    for alg, predictors in algorithms:\n",
    "        # Fit the algorithm on the training data.\n",
    "        alg.fit(titanic[predictors].iloc[train,:], train_target)\n",
    "        # Select and predict on the test fold.  \n",
    "        # The .astype(float) is necessary to convert the dataframe to *3all floats and avoid an sklearn error.\n",
    "        test_predictions = alg.predict_proba(titanic[predictors].iloc[test,:].astype(float))[:,1]\n",
    "        full_test_predictions.append(test_predictions)\n",
    "    # Use a simple ensembling scheme -- just average the predictions to get the final classification.\n",
    "    test_predictions = (full_test_predictions[0] + 3*full_test_predictions[1]) / 4\n",
    "    # Any value over .5 is assumed to be a 1 prediction, and below .5 is a 0 prediction.\n",
    "    test_predictions[test_predictions <= .5] = 0\n",
    "    test_predictions[test_predictions > .5] = 1\n",
    "    predictions.append(test_predictions)\n",
    "\n",
    "# Put all the predictions together into one array.\n",
    "predictions = np.concatenate(predictions, axis=0)\n",
    "\n",
    "# Compute accuracy by comparing to the training data.\n",
    "accuracy = sum(predictions[predictions == titanic[\"Survived\"]]) / len(predictions)\n",
    "print(accuracy)"
   ]
  },
  {
   "cell_type": "code",
   "execution_count": 24,
   "metadata": {
    "collapsed": false
   },
   "outputs": [
    {
     "name": "stdout",
     "output_type": "stream",
     "text": [
      "1     240\n",
      "2      79\n",
      "3      72\n",
      "4      21\n",
      "7       2\n",
      "6       2\n",
      "10      1\n",
      "5       1\n",
      "Name: Title, dtype: int64\n",
      "{'Harris1': 62, 'Dibden0': 899, 'Navratil2': 138, 'Rogers0': 45, 'Smith0': 160, 'Mineff0': 266, 'Ford4': 84, 'Kalvik0': 534, 'Snyder1': 709, 'Duran y More1': 685, 'Giles0': 896, 'Toufik0': 450, 'Thorne0': 233, 'Sivola0': 159, 'Oxenham0': 868, 'Willey0': 532, 'Harmer0': 634, 'Assam0': 885, 'Rosblom2': 231, 'Abbing0': 675, 'Robbins0': 468, 'Maisner0': 399, 'Roebling0': 686, 'Osen0': 129, 'Boulos2': 131, 'Mudd0': 671, 'Butler0': 544, 'Lines1': 677, 'Shellard0': 423, 'Richard0': 127, 'Brown0': 177, 'Pokrnic0': 863, 'Rintamaki0': 492, 'Assaf0': 711, 'Nicholls2': 136, 'Strom2': 228, 'Rice5': 17, 'Sweet0': 841, 'Devaney0': 44, 'Jefferys2': 716, 'Bonnell0': 12, 'Van Impe2': 361, 'Greenberg0': 579, 'Garfirth0': 614, 'Larsson0': 211, 'Vendel0': 844, 'Elsbury0': 494, 'Markoff0': 676, 'Emir0': 26, 'Danoff0': 289, 'Mernagh0': 179, 'Serepeca0': 672, 'Ohman0': 465, 'Moubarek2': 65, 'Yrois0': 182, 'Kreuchen0': 884, 'Thayer2': 461, 'Pekoniemi0': 112, 'Coxon0': 91, 'McCaffry0': 864, 'Hippach1': 294, 'Kvillner0': 377, 'Hosono0': 260, 'Radeff0': 537, 'Linehan0': 843, 'Johnson0': 273, 'Ford0': 870, 'Troutt0': 582, 'Barah0': 616, 'Shelley1': 693, 'Petroff0': 98, 'Phillips1': 818, 'Pallas y Castello0': 907, 'Christy2': 484, 'Gilbert0': 917, 'Olsson0': 254, 'Krekorian0': 881, 'Aldworth0': 747, 'Mahon0': 833, 'Ringhini0': 327, 'Nosworthy0': 51, 'Marechal0': 669, 'Dulles0': 888, 'Ahlin1': 40, 'Andrew0': 135, 'Fahlstrom0': 210, 'Bracken0': 203, 'Keane0': 274, 'Hodges0': 586, 'Silven2': 359, 'Davies0': 336, 'Barton0': 109, 'Hakkarainen1': 133, 'Kink2': 68, 'Carver0': 780, 'Lulic0': 659, 'Francatelli0': 278, 'Sloper0': 24, 'Tenglin0': 762, 'Douglas1': 457, 'Coleridge0': 220, 'Healy0': 248, 'Drapkin0': 790, 'Slayter0': 290, 'Barkworth0': 521, 'Jussila1': 110, 'Swane0': 773, 'Oliva y Ocana0': 927, 'Enander0': 887, 'Lindahl0': 223, 'Spector0': 926, 'McKane0': 342, 'Mionoff0': 102, 'Barry0': 754, 'Stewart0': 64, 'Sivic0': 471, 'Mitchell0': 550, 'Funk0': 313, 'Hood0': 70, 'Bowenur0': 783, 'Gee0': 397, 'Chaffee1': 89, 'Beckwith2': 225, 'LeRoy0': 452, 'Olsen0': 144, 'Lyntakoff0': 859, 'Gill0': 683, 'Hoyt0': 638, 'Cherry0': 234, 'Meek0': 357, 'Knight0': 593, 'Portaluppi0': 858, 'Hilliard0': 795, 'Earnshaw1': 797, 'Hunt0': 218, 'Yousseff0': 421, 'Richards2': 350, 'Razi0': 679, 'Arnold-Franchi1': 49, 'Sawyer0': 554, 'Lewy0': 267, 'Bradley0': 430, 'Vander Planke3': 794, 'Backstrom1': 188, 'Saundercock0': 13, 'Nancarrow0': 765, 'Angheloff0': 874, 'Uruchurtu0': 30, 'Doharr0': 476, 'Hagland1': 386, 'Spencer1': 31, 'Leader0': 641, 'Carr0': 190, \"O'Leary0\": 535, 'Giglio0': 130, 'Goldsmith2': 154, 'Givard0': 195, 'Stone0': 662, 'Finoli0': 830, 'Wilhelms0': 551, 'Rasmussen0': 823, 'Sadowitz0': 878, 'Olsen1': 180, 'Schabert1': 779, 'Waelens0': 78, 'Edvardsson0': 553, 'Widener2': 329, 'Duff Gordon1': 467, 'Flynn0': 369, 'Fischer0': 561, 'Brown2': 548, 'Anderson0': 395, 'Mack0': 623, 'Holthen0': 770, 'Lingane0': 821, 'Swift0': 682, 'MacKay0': 854, 'Rothes0': 613, 'Vande Walle0': 183, 'Denkoff0': 297, 'Lithman0': 811, 'Bourke2': 172, 'Moen0': 73, 'Pickard0': 370, 'Padro y Manent0': 459, 'Elias0': 624, 'Doyle0': 748, 'Turkula0': 414, 'Hart2': 283, 'Icard0': 61, 'Goncalves0': 400, 'Johannesen-Bratthammer0': 381, 'Kink-Heilmann2': 168, 'Perreault0': 441, 'Rekic0': 105, 'McMahon0': 118, 'Sutehall0': 697, 'Lemberopolous0': 673, 'Montvila0': 698, 'Corey0': 737, 'Buckley0': 771, 'Jarvis0': 488, 'Saether0': 928, 'Adams0': 346, 'Ball0': 293, 'Jussila0': 483, 'Mardirosian0': 869, 'Goldsmith0': 723, 'Cook0': 546, 'Assaf Khalil0': 712, 'Peltomaki0': 725, 'Allum0': 664, 'Parrish1': 236, 'Rowe0': 883, 'Flegenheim0': 713, 'Keefe0': 404, 'Corn0': 147, 'Hegarty0': 536, 'Smiljanic0': 148, 'Payne0': 916, 'Mannion0': 589, 'Nasser1': 10, 'Perkin0': 194, 'Campbell0': 401, 'Conlon0': 921, 'Meyer1': 34, 'Ayoub0': 631, 'Gustafsson0': 331, 'de Pelsmaeker0': 255, 'Khalil1': 753, 'Nysveen0': 292, 'Jacobsohn3': 498, 'Clarke1': 367, 'Kilgannon0': 629, 'Baccos0': 845, 'Milling0': 398, 'Thomas0': 777, 'Jacobsohn1': 199, 'Bing0': 72, 'Humblen0': 570, 'Adahl0': 319, 'Kennedy0': 781, 'Touma2': 232, 'Jonsson0': 477, 'Hirvonen1': 411, 'Braf0': 764, 'Jonkoff0': 609, 'Andrews0': 647, 'Berglund0': 207, 'Stankovic0': 257, 'Shorney0': 92, 'Watt0': 151, 'Dodge2': 382, 'Stead0': 229, 'Wilkes1': 702, 'Futrelle1': 4, 'Mulvihill0': 739, 'Ware1': 867, 'van Billiard2': 143, 'Duquemin0': 800, 'Cassebeer0': 809, 'Danbom2': 365, 'Wittevrongel0': 873, 'Strandberg0': 407, 'Boulos0': 497, 'Reynolds0': 835, 'Bengtsson0': 152, 'Ward0': 235, 'Collander0': 301, 'Vande Velde0': 608, 'Petranec0': 97, 'Calderhead0': 575, 'Marvin1': 604, 'Goodwin7': 59, 'Sirota0': 667, 'Kink-Heilmann4': 918, 'McCrie0': 814, 'Allen0': 5, 'Phillips0': 368, 'Nakid2': 333, 'Graham1': 242, 'Stahelin-Maeglin0': 523, 'Kelly0': 271, 'Vovk0': 442, 'Salander0': 852, 'Harknett0': 214, 'Sundman0': 356, 'Heininen0': 655, 'Lefebre4': 162, 'Mellors0': 208, 'Beavan0': 326, 'Lundstrom0': 893, 'McEvoy0': 583, 'Stanton0': 774, 'Tikkanen0': 334, 'Chambers1': 587, 'Cameron0': 193, 'Lindeberg-Lind0': 793, 'Birkeland0': 351, 'Caldwell2': 76, 'Greenfield1': 94, 'Richards5': 376, 'Faunthorpe1': 53, 'Masselmani0': 20, 'Rosenbaum0': 827, 'Franklin0': 722, 'Coleff0': 435, 'Reeves0': 240, 'Karun1': 564, 'Weisz1': 125, 'Jones0': 708, 'Gracie0': 786, 'Lahoud0': 443, 'Molson0': 418, 'Holverson1': 35, 'Connolly0': 261, 'Balkic0': 688, 'Trout0': 344, 'Artagaveytia0': 419, 'Ivanoff0': 597, 'Stoytcheff0': 475, 'Henriksson0': 925, 'Andersson0': 137, 'Daniel0': 505, 'Salkjelsvik0': 103, 'Saad0': 566, 'Sheerlinck0': 79, 'McNamee1': 601, 'Andreasson0': 88, 'Guest0': 760, 'Coutts2': 305, 'Lam0': 565, 'Chaudanson0': 733, 'Rouse0': 413, 'Najib0': 690, 'Laleff0': 691, 'Woolner0': 55, 'Baxter1': 114, 'Backstrom3': 83, 'Leinonen0': 526, 'Cumings1': 2, 'Lobb1': 230, 'Omont0': 825, 'Myhrman0': 626, 'Parkes0': 251, 'Kirkland0': 517, 'Petersen0': 784, 'Storey0': 799, 'Lockyer0': 901, 'Hee0': 721, 'Ridsdale0': 446, 'Turpin1': 41, 'Robins1': 124, 'Hale0': 164, 'Bailey0': 611, 'Moss0': 104, 'Heikkinen0': 3, 'Maenpaa0': 221, 'Wiseman0': 366, 'Morrow0': 470, 'Odahl0': 307, 'Johanson0': 184, 'McGough0': 433, 'Thomson0': 834, 'Nasr0': 872, 'Karaic0': 504, 'Partner0': 295, 'Jensen1': 584, 'Duane0': 253, 'McGowan0': 23, 'Lindell1': 503, 'Nirva0': 615, 'Andersen-Jensen1': 176, 'Cleaver0': 576, 'Gallagher0': 573, 'Peruschitz0': 807, 'Turja0': 555, 'Nourney0': 922, 'Sap0': 720, 'Salomon0': 820, 'Case0': 750, 'Eustis1': 422, 'Kassem0': 444, 'Toomey0': 393, 'Johnson2': 9, 'Hoyt1': 206, 'Behr0': 700, 'Karlsson0': 410, 'Lovell0': 209, 'Augustsson0': 663, 'Shutes0': 506, 'Beauchamp0': 792, 'Christmann0': 87, 'Jalsevac0': 390, 'Wheeler0': 913, 'Smyth0': 805, 'Dorking0': 256, 'Simonius-Blumer0': 531, 'Ali0': 192, 'Brandeis0': 808, 'Calic0': 153, 'Palsson4': 8, \"O'Connell0\": 520, 'Stranden0': 602, 'Leitch0': 496, 'Peuchen0': 385, 'Chip0': 668, 'Katavelas0': 718, 'Jardin0': 507, 'Dintcheff0': 787, 'Gaskell0': 637, 'Svensson0': 424, 'Badman0': 755, 'Matinoff0': 798, 'Torber0': 501, 'Vander Planke2': 38, 'Straus1': 749, 'Stephenson1': 493, 'Mangan0': 620, 'Bjornstrom-Steffansson0': 371, 'Harrington0': 500, 'Astor1': 571, 'Hansen1': 574, 'Norman0': 472, 'Veal0': 819, 'Birnbaum0': 761, 'McNeill0': 838, 'Murphy0': 824, 'Penasco y Castellana1': 276, 'Minahan1': 354, 'Gronnestad0': 621, 'Cacic0': 405, 'Pulbaum0': 730, \"O'Donoghue0\": 756, 'Moussa0': 321, 'Wright0': 466, 'Hays0': 279, 'Ekstrom0': 121, 'Colbert0': 919, 'Lahtinen2': 281, 'Karnes0': 849, 'Tucker0': 738, 'Hewlett0': 16, 'Saade0': 865, 'Lesurer0': 596, 'Vander Planke1': 19, 'Abelseth0': 732, 'Smith1': 729, 'Millet0': 391, 'Stokes0': 898, 'Wilson0': 908, 'Nenkoff0': 205, 'Mock1': 717, 'Guggenheim0': 636, 'Murdlin0': 491, 'Byles0': 139, 'Windelov0': 417, 'Peduzzi0': 389, 'Patchett0': 480, 'Canavan0': 425, 'Baumann0': 156, 'Long0': 632, 'Ryan0': 438, 'Walker0': 436, 'Rood0': 169, 'Cavendish1': 600, 'Ibrahim Shawah0': 643, 'Matthews0': 360, 'Sadlier0': 338, 'Lindstrom0': 847, 'Peter2': 120, 'Jenkin0': 69, 'Deacon0': 831, 'Holm0': 657, \"O'Brien1\": 170, 'Young0': 291, 'Lindqvist1': 543, 'Strilic0': 904, 'Madigan0': 181, 'Malachard0': 876, 'Dahlberg0': 695, 'Ilmakangas1': 591, 'Goldenberg1': 388, 'Hassan0': 592, 'Hawksford0': 599, 'Johansson0': 100, 'Pears1': 141, 'Newsom2': 128, 'Andersson6': 14, 'Lundahl0': 522, 'West3': 58, 'Madsen0': 119, 'Kallio0': 374, 'Soholt0': 580, 'Frauenthal1': 296, 'Sage10': 149, 'Chevre0': 726, 'Staneff0': 74, 'Dowdell0': 77, 'Whabee0': 895, 'Frost0': 412, 'Dika0': 734, 'Brady0': 715, 'Carter3': 340, 'McCarthy0': 7, 'Abrahim0': 706, 'Chisholm0': 860, 'Nesson0': 882, 'Minahan2': 222, 'Schmidt0': 789, 'Connors0': 113, 'Honkanen0': 198, 'Collett0': 826, 'Alhomaki0': 670, 'Herman3': 510, 'Persson1': 241, 'Landergren0': 328, 'Hold1': 215, 'Asim0': 318, 'Naidenoff0': 259, 'Lemore0': 437, 'Meo0': 142, 'Nilsson0': 284, 'Hedman0': 646, 'Fillbrook0': 892, 'Mangiavacchi0': 731, 'Lester0': 651, 'Pengelly0': 217, 'Troupiansky0': 595, 'Pain0': 343, 'Harper1': 52, 'Cunningham0': 355, 'Dyker1': 757, 'Head0': 832, 'Klasen2': 161, 'Cann0': 37, 'Beattie0': 778, \"O'Dwyer0\": 28, 'Glynn0': 32, 'Cornell2': 746, 'Porter0': 107, 'Hellstrom0': 810, 'Roth0': 719, 'Hickman2': 115, 'Louch1': 373, 'Markun0': 694, 'Thomas1': 645, 'Clifford0': 408, 'Kimball1': 513, 'Beane1': 456, 'Skoog5': 63, 'Banfield0': 696, 'Burns0': 298, 'Denbury0': 891, 'Wheadon0': 33, 'Dick1': 563, 'Abbott2': 252, 'Dimic0': 306, 'Rugg0': 56, 'Beesley0': 22, 'Chronopoulos1': 71, 'Weir0': 567, 'Maybery0': 817, 'Everett0': 839, 'Lievens0': 622, 'Sirayanian0': 60, 'Ponesell0': 644, 'Gilinski0': 490, 'Brobeck0': 782, 'Reuchlin0': 660, 'Dahl0': 299, 'Hogeboom1': 618, 'Myles0': 703, 'Parr0': 524, 'Andersen0': 829, 'Niklasson0': 855, 'Gale1': 348, 'Laitinen0': 427, 'Sagesser0': 528, 'Rommetvedt0': 545, 'Warren0': 861, 'Nicola-Yarred1': 39, 'Madill1': 562, 'Cairns0': 244, 'Moran1': 106, 'McGovern0': 314, 'Hocking4': 625, 'Harder1': 324, 'Ware0': 903, 'Hipkins0': 912, 'Nieminen0': 741, 'Petterson1': 379, 'Homer0': 502, 'Niskanen0': 345, 'Lang0': 431, 'Bostandyeff0': 519, 'Ismay0': 909, 'Henry0': 239, 'Youseff0': 185, 'Sharp0': 462, 'Allison3': 269, 'Daher0': 714, 'Parker0': 866, 'Maguire0': 889, 'Bazzani0': 200, 'Levy0': 264, 'Moutal0': 75, 'Sinkkonen0': 603, 'Thomas2': 769, 'Hampe0': 378, 'Smart0': 402, 'Downton0': 485, 'Garside0': 481, 'Morley0': 396, 'Loring0': 875, 'Pinsky0': 174, 'Carter1': 226, 'Haas0': 265, 'Hocking0': 840, 'Wenzel0': 853, 'Somerton0': 416, 'Mamee0': 36, 'Bird0': 801, 'Frauenthal2': 540, 'Davis0': 525, 'Asplund0': 837, 'Asplund6': 25, 'Crosby2': 455, 'Dooley0': 701, 'Laroche3': 43, 'Goldschmidt0': 93, 'Blackwell0': 300, 'McCrae0': 735, 'Moraweck0': 285, 'Yasbeck1': 512, 'Riihivouri0': 905, 'Shine0': 775, 'Doling1': 95, 'Coelho0': 123, 'Saalfeld0': 270, 'Peacock2': 804, 'Willer0': 772, 'Kantor1': 96, 'Strom1': 187, 'Blank0': 191, 'Spinner0': 785, 'Howard1': 710, 'Geiger0': 743, 'Cohen0': 186, 'Hamalainen2': 224, 'Compton2': 665, 'Gustafsson2': 101, 'van Melkebeke0': 687, 'Delalic0': 828, 'Panula5': 50, 'Leonard0': 165, 'Larsson-Rondberg0': 920, 'Bishop1': 263, 'Mellinger1': 246, 'Andrews1': 249, 'Julian0': 900, 'Zakarian0': 788, 'Thorneycroft1': 372, 'Carrau0': 81, 'Caram1': 482, 'Bissette0': 243, 'Plotcharsky0': 335, 'Jermyn0': 322, 'Brocklebank0': 509, 'Shaughnessy0': 727, 'Harris0': 201, 'Bucknell0': 728, 'Slabenoff0': 499, 'Reed0': 227, \"O'Driscoll0\": 47, 'de Brito0': 890, 'Colley0': 542, 'Ilieff0': 707, 'Robert1': 630, 'Wells2': 606, 'Gavey0': 511, 'Dennis0': 288, 'Willard0': 842, 'Riordan0': 923, 'de Mulder0': 258, 'Pearce0': 806, 'Johansson Palmquist0': 768, 'Scanlan0': 403, 'Elias2': 309, 'Romaine0': 171, 'Kenyon1': 392, 'Walcroft0': 897, 'Daly0': 432, 'Kent0': 415, 'Murphy1': 219, 'Angle1': 439, 'Drazenoic0': 122, 'Barbara1': 317, 'Nye0': 66, 'Minkoff0': 740, 'Davidson1': 549, 'Sjoblom0': 635, 'Longley0': 518, 'Charters0': 363, 'Chapman0': 568, 'Fynney0': 21, 'del Carlo1': 316, 'McDermott0': 80, 'Albimona0': 189, 'Leyson0': 213, 'Baimbrigge0': 822, 'Pasic0': 666, 'Braund1': 1, 'Abelson1': 277, 'Bowerman1': 312, 'Wiklund1': 325, 'Davison1': 304, 'Howard0': 862, 'Foreman0': 387, 'Sincock0': 813, 'Warren1': 320, 'Zabour1': 108, 'Makinen0': 763, 'Ilett0': 82, 'Rothschild1': 434, 'Vander Cruyssen0': 689, 'Zimmerman0': 364, 'Nysten0': 132, 'Slemen0': 652, 'Jerwan0': 406, 'Pedersen0': 758, 'Jensen0': 527, 'Maioni0': 428, 'Wick2': 286, 'Rosenshine0': 886, 'Hirvonen2': 705, 'Baclini3': 384, 'Todoroff0': 29, 'Hart0': 353, 'Van der hoef0': 158, 'Farthing0': 447, 'Crease0': 67, 'Otter0': 640, 'Sdycoff0': 352, 'Nicholson0': 458, 'Yousif0': 310, 'Slocovski0': 85, 'Reynaldo0': 380, 'Jansson0': 341, 'Naughton0': 924, 'Meyer0': 649, 'Natsch1': 247, 'Ashby0': 915, 'Renouf3': 588, 'Vestrom0': 15, 'Hiltunen2': 846, 'Risien0': 453, 'Bryhl1': 590, 'Buss0': 337, 'White1': 99, \"O'Sullivan0\": 426, 'Harbeck0': 910, 'Seward0': 383, 'Berriman0': 594, 'Cotterill0': 911, 'Carbines0': 175, 'Williams1': 145, 'Pernot0': 166, 'Meanwell0': 474, 'Widegren0': 349, 'Lurette0': 178, 'Gilnagh0': 146, 'Silvey1': 375, 'Aubart0': 323, 'Graham0': 699, 'Keeping0': 744, 'Douglas2': 816, 'Gillespie0': 585, 'Taussig2': 237, 'Nankoff0': 598, 'Frolicher-Stehli2': 489, 'Sandstrom2': 11, 'Paulner0': 487, 'Butt0': 451, 'Torfa0': 812, 'Hendekovic0': 282, 'Quick2': 429, 'Horgan0': 508, 'Mayne0': 577, 'Abrahamsson0': 850, 'Sunderland0': 202, 'Appleton2': 478, 'Lundin0': 802, 'de Messemaeker1': 469, 'Celotti0': 86, 'Tornquist0': 245, 'Midtsjo0': 857, 'Foley0': 767, 'Hagardon0': 880, 'Emanuel0': 628, 'Cardeza1': 556, 'Newell2': 539, 'Stengel1': 766, 'Ovies y Rodriguez0': 742, 'Olsvigen0': 559, 'Theobald0': 612, 'Lehmann0': 339, 'Fortune5': 27, 'Taylor1': 547, 'Stanley0': 420, 'Alexander0': 650, \"O'Keefe0\": 902, 'Dakic0': 560, 'Sobey0': 126, 'Dean3': 90, 'Cor0': 530, 'Oreskovic0': 347, 'Vartanian0': 877, 'Foo0': 529, 'Potter1': 692, 'Novel0': 57, 'Mockler0': 315, 'Barber0': 262, 'Culumovic0': 674, 'Ling0': 157, 'McCormack0': 661, 'Corbett0': 724, 'Evans0': 776, 'Lane0': 815, 'Leeni0': 464, 'Sutton0': 516, 'Crafton0': 796, 'Eklund0': 617, 'Pettersson0': 648, 'Miles0': 745, 'Hansen0': 514, 'Lamb0': 752, 'Sjostedt0': 212, 'Endres0': 581, 'Mallet2': 656, 'Dantcheff0': 639, 'Peters0': 557, 'Moor1': 607, 'Bateman0': 140, 'Salonen0': 448, 'Gheorgheff0': 362, 'McCoy2': 272, 'Daniels0': 791, 'Moore0': 116, 'Aronsson0': 914, 'Rush0': 479, 'Demetri0': 751, \"O'Connor0\": 394, 'Ross0': 486, 'Frolicher2': 454, 'Williams0': 18, 'Harrison0': 238, 'Sedgwick0': 302, 'Ryerson4': 280, 'Davies2': 460, 'Bystrom0': 684, 'Green0': 204, 'Hocking3': 449, 'Bentham0': 856, 'Gibson1': 906, 'Johnston3': 633, 'Ostby1': 54, 'Giles1': 681, 'Mitkoff0': 533, 'Kraeff0': 42, 'Collyer2': 216, 'Hyman0': 848, 'Drew2': 358, 'Renouf1': 409, 'Turcin0': 173, 'Fry0': 654, 'Candee0': 836, 'Bjorklund0': 736, 'Aks1': 678, 'Chibnall1': 155, 'Rheims0': 871, 'Watson0': 552, \"O'Brien0\": 463, 'Silverthorne0': 572, 'Hassab0': 558, 'Tobin0': 627, 'Farrell0': 445, 'Lennon1': 46, 'Hanna0': 268, 'Chapman1': 495, 'Newell1': 197, 'Bowen0': 515, 'Samaan2': 48, 'Hansen2': 680, 'Isham0': 163, 'Brewe0': 619, 'Badt0': 541, 'Connaghton0': 605, 'Cribb1': 150, 'Tomlin0': 653, 'White0': 879, 'Carlsson0': 610, 'Osman0': 642, 'Attalah0': 111, 'Davidson3': 759, 'Spedden2': 287, 'Vanden Steen0': 311, 'Pavlovic0': 440, 'Borebank0': 803, 'Kiernan1': 196, 'Botsford0': 894, 'Clark1': 851, 'Wirz0': 704, 'Fleming0': 275, 'Simmons0': 473, 'Becker3': 167, 'Burke0': 134, 'Fox0': 303, 'Klaber0': 578, 'Betros0': 330, 'Hays2': 658, 'Lindblom0': 250, 'Webber0': 117, 'Williams-Lambert0': 308, 'Moran0': 6, 'Bidois0': 332, 'Mullens0': 569, 'Eitemiller0': 538}\n"
     ]
    }
   ],
   "source": [
    "#adding features to test\n",
    "# First, we'll add titles to the test set.\n",
    "titles = titanic_test[\"Name\"].apply(get_title)\n",
    "# We're adding the Dona title to the mapping, because it's in the test set, but not the training set\n",
    "title_mapping = {\"Mr\": 1, \"Miss\": 2, \"Mrs\": 3, \"Master\": 4, \"Dr\": 5, \"Rev\": 6, \"Major\": 7, \"Col\": 7, \"Mlle\": 8, \"Mme\": 8, \"Don\": 9, \"Lady\": 10, \"Countess\": 10, \"Jonkheer\": 10, \"Sir\": 9, \"Capt\": 7, \"Ms\": 2, \"Dona\": 10}\n",
    "for k,v in title_mapping.items():\n",
    "    titles[titles == k] = v\n",
    "titanic_test[\"Title\"] = titles\n",
    "# Check the counts of each unique title.\n",
    "print(pd.value_counts(titanic_test[\"Title\"]))\n",
    "\n",
    "# Now, we add the family size column.\n",
    "titanic_test[\"FamilySize\"] = titanic_test[\"SibSp\"] + titanic_test[\"Parch\"]\n",
    "\n",
    "# Now we can add family ids.\n",
    "# We'll use the same ids that we did earlier.\n",
    "print(family_id_mapping)\n",
    "\n",
    "family_ids = titanic_test.apply(get_family_id, axis=1)\n",
    "family_ids[titanic_test[\"FamilySize\"] < 3] = -1\n",
    "titanic_test[\"FamilyId\"] = family_ids\n",
    "\n",
    "# The .apply method generates a new series\n",
    "titanic_test[\"NameLength\"] = titanic_test[\"Name\"].apply(lambda x: len(x))\n"
   ]
  },
  {
   "cell_type": "code",
   "execution_count": 68,
   "metadata": {
    "collapsed": false
   },
   "outputs": [],
   "source": [
    "predictors = [\"Pclass\", \"Sex\", \"Age\", \"Fare\", \"Embarked\", \"FamilySize\", \"Title\", \"FamilyId\"]\n",
    "\n",
    "algorithms = [\n",
    "    [GradientBoostingClassifier(random_state=1, n_estimators=25, max_depth=3), predictors],\n",
    "    [LogisticRegression(penalty = 'l1', C = 0.1, random_state=1), [\"Pclass\", \"Sex\", \"Fare\", \"FamilySize\", \"Title\", \"Age\", \"Embarked\"]]\n",
    "]\n",
    "\n",
    "full_predictions = []\n",
    "for alg, predictors in algorithms:\n",
    "    # Fit the algorithm using the full training data.\n",
    "    alg.fit(titanic[predictors], titanic[\"Survived\"])\n",
    "    # Predict using the test dataset.  We have to convert all the columns to floats to avoid an error.\n",
    "    predictions = alg.predict_proba(titanic_test[predictors].astype(float))[:,1]\n",
    "    full_predictions.append(predictions)\n",
    "\n",
    "# The gradient boosting classifier generates better predictions, so we weight it higher.\n",
    "predictions = (full_predictions[0] * 3 + full_predictions[1]) / 4\n",
    "# Map predictions to outcomes (only possible outcomes are 1 and 0)\n",
    "predictions[predictions > .5] = 1\n",
    "predictions[predictions <=.5] = 0\n",
    "predictions = predictions.astype(int)\n",
    "\n",
    "# # Create a new dataframe with only the columns Kaggle wants from the dataset.\n",
    "# submission = pd.DataFrame({\n",
    "#         \"PassengerId\": titanic_test[\"PassengerId\"],\n",
    "#         \"Survived\": predictions\n",
    "#     })\n",
    "# submission.to_csv(\"kaggle.csv\", index=False)"
   ]
  },
  {
   "cell_type": "code",
   "execution_count": 67,
   "metadata": {
    "collapsed": false
   },
   "outputs": [],
   "source": []
  },
  {
   "cell_type": "code",
   "execution_count": null,
   "metadata": {
    "collapsed": true
   },
   "outputs": [],
   "source": []
  },
  {
   "cell_type": "code",
   "execution_count": null,
   "metadata": {
    "collapsed": true
   },
   "outputs": [],
   "source": []
  }
 ],
 "metadata": {
  "anaconda-cloud": {},
  "kernelspec": {
   "display_name": "Python [Root]",
   "language": "python",
   "name": "Python [Root]"
  },
  "language_info": {
   "codemirror_mode": {
    "name": "ipython",
    "version": 3
   },
   "file_extension": ".py",
   "mimetype": "text/x-python",
   "name": "python",
   "nbconvert_exporter": "python",
   "pygments_lexer": "ipython3",
   "version": "3.5.2"
  }
 },
 "nbformat": 4,
 "nbformat_minor": 0
}
